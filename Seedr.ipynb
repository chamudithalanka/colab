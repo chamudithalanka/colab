{
  "nbformat": 4,
  "nbformat_minor": 0,
  "metadata": {
    "colab": {
      "provenance": [],
      "authorship_tag": "ABX9TyO/Wkeyh5PqMdgM2Ljbg0ff",
      "include_colab_link": true
    },
    "kernelspec": {
      "name": "python3",
      "display_name": "Python 3"
    },
    "language_info": {
      "name": "python"
    }
  },
  "cells": [
    {
      "cell_type": "markdown",
      "metadata": {
        "id": "view-in-github",
        "colab_type": "text"
      },
      "source": [
        "<a href=\"https://colab.research.google.com/github/chamudithalanka/colab/blob/main/Seedr.ipynb\" target=\"_parent\"><img src=\"https://colab.research.google.com/assets/colab-badge.svg\" alt=\"Open In Colab\"/></a>"
      ]
    },
    {
      "cell_type": "code",
      "execution_count": null,
      "metadata": {
        "id": "cwJ4tGbDfB4P"
      },
      "outputs": [],
      "source": [
        "from google.colab import drive\n",
        "drive.mount('/content/drive')"
      ]
    },
    {
      "source": [
        "import requests\n",
        "from google.colab import drive\n",
        "\n",
        "# Mount Google Drive\n",
        "drive.mount('/content/drive')\n",
        "\n",
        "# Seedr file URL (replace this with your actual Seedr file link)\n",
        "seedr_url = 'https://www.seedr.cc/download/archive/3faa83e325bc084c8b4b9367204f3dcb98640bd7e087fd7c70e5ca547105f6e5?token=8464cb7e754ab625d4153f61dfb8282d534051ee2eaacc19e77b833e7ff7ce1c&exp=1726017205'\n",
        "\n",
        "# Specify the path in Google Drive where you want to save the file\n",
        "# Make sure 'your_folder_name' exists in your Google Drive\n",
        "drive_path = '/content/drive/My Drive/Mirror/your_file_name'\n",
        "\n",
        "# Download the file from Seedr and save it to Google Drive\n",
        "response = requests.get(seedr_url, stream=True)\n",
        "with open(drive_path, 'wb') as f:\n",
        "    for chunk in response.iter_content(chunk_size=1024):\n",
        "        if chunk:\n",
        "            f.write(chunk)\n",
        "\n",
        "print(\"File downloaded and saved to Google Drive.\")"
      ],
      "cell_type": "code",
      "metadata": {
        "id": "IaSV9mlZgIGI"
      },
      "execution_count": null,
      "outputs": []
    },
    {
      "cell_type": "code",
      "source": [
        "drive.flush_and_unmount()"
      ],
      "metadata": {
        "id": "o7cVlBZri1p0"
      },
      "execution_count": null,
      "outputs": []
    }
  ]
}