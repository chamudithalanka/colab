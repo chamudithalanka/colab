{
  "nbformat": 4,
  "nbformat_minor": 0,
  "metadata": {
    "colab": {
      "provenance": [],
      "include_colab_link": true
    },
    "kernelspec": {
      "name": "python3",
      "display_name": "Python 3"
    },
    "language_info": {
      "name": "python"
    }
  },
  "cells": [
    {
      "cell_type": "markdown",
      "metadata": {
        "id": "view-in-github",
        "colab_type": "text"
      },
      "source": [
        "<a href=\"https://colab.research.google.com/github/chamudithalanka/colab/blob/main/Download_Video.ipynb\" target=\"_parent\"><img src=\"https://colab.research.google.com/assets/colab-badge.svg\" alt=\"Open In Colab\"/></a>"
      ]
    },
    {
      "cell_type": "code",
      "source": [
        "# Install ClamAV on Colab\n",
        "!apt-get update\n",
        "!apt-get install -y clamav\n",
        "!freshclam  # Update the virus definitions"
      ],
      "metadata": {
        "id": "AjJMG-lBNBId"
      },
      "execution_count": null,
      "outputs": []
    },
    {
      "cell_type": "code",
      "source": [
        "# Download the file (replace with your video file URL)\n",
        "!wget '#' -O /content/video.mp4"
      ],
      "metadata": {
        "id": "qZXBS5KtNEb8"
      },
      "execution_count": null,
      "outputs": []
    },
    {
      "cell_type": "code",
      "source": [
        "# Scan the downloaded file for malware/viruses\n",
        "!clamscan /content/video.mp4"
      ],
      "metadata": {
        "id": "Hu_P07CnNQK8"
      },
      "execution_count": null,
      "outputs": []
    },
    {
      "cell_type": "code",
      "source": [
        "import os\n",
        "import shutil\n",
        "from google.colab import drive\n",
        "\n",
        "# Mount Google Drive\n",
        "drive.mount('/content/drive')\n",
        "\n",
        "# Define file paths\n",
        "downloaded_file = '/content/video.mp4'\n",
        "destination_drive = '/content/drive/My Drive/video.mp4'\n",
        "\n",
        "# Scan the file for viruses\n",
        "scan_result = os.system(f'clamscan {downloaded_file}')\n",
        "\n",
        "# If scan_result == 0, it means no virus was found\n",
        "if scan_result == 0:\n",
        "    # Move the file to Google Drive if it's clean\n",
        "    shutil.move(downloaded_file, destination_drive)\n",
        "    print(\"File is clean and has been moved to Google Drive.\")\n",
        "else:\n",
        "    # Delete the file if it's infected\n",
        "    os.remove(downloaded_file)\n",
        "    print(\"File is infected and has been deleted.\")"
      ],
      "metadata": {
        "id": "8q8zqYOgNRBo"
      },
      "execution_count": null,
      "outputs": []
    }
  ]
}