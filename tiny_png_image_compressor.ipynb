{
  "nbformat": 4,
  "nbformat_minor": 0,
  "metadata": {
    "colab": {
      "provenance": [],
      "authorship_tag": "ABX9TyMJP35Tv37CjMRF1jiYjWYH",
      "include_colab_link": true
    },
    "kernelspec": {
      "name": "python3",
      "display_name": "Python 3"
    },
    "language_info": {
      "name": "python"
    }
  },
  "cells": [
    {
      "cell_type": "markdown",
      "metadata": {
        "id": "view-in-github",
        "colab_type": "text"
      },
      "source": [
        "<a href=\"https://colab.research.google.com/github/chamudithalanka/colab/blob/main/tiny_png_image_compressor.ipynb\" target=\"_parent\"><img src=\"https://colab.research.google.com/assets/colab-badge.svg\" alt=\"Open In Colab\"/></a>"
      ]
    },
    {
      "cell_type": "code",
      "execution_count": null,
      "metadata": {
        "id": "sBIJTyk0E8PY"
      },
      "outputs": [],
      "source": [
        "pip install tinify"
      ]
    },
    {
      "cell_type": "code",
      "source": [
        "import tinify\n",
        "import os\n",
        "\n",
        "# Set your TinyPNG API key\n",
        "tinify.key = \"wlWQPBGwHmBLQKLPr7yxKNLH3QXDHLW0\"  # Replace with your actual API key\n",
        "\n",
        "# Function to compress images\n",
        "def compress_image(input_path, output_path):\n",
        "    source = tinify.from_file(input_path)\n",
        "    source.to_file(output_path)\n",
        "\n",
        "# Function to compress all images in a directory\n",
        "def compress_images_in_directory(input_dir, output_dir):\n",
        "    if not os.path.exists(output_dir):\n",
        "        os.makedirs(output_dir)\n",
        "\n",
        "    for root, dirs, files in os.walk(input_dir):\n",
        "        for file in files:\n",
        "            if file.lower().endswith(('.png', '.jpg', '.jpeg')):\n",
        "                input_path = os.path.join(root, file)\n",
        "                relative_path = os.path.relpath(input_path, input_dir)\n",
        "                output_path = os.path.join(output_dir, relative_path)\n",
        "                output_file_dir = os.path.dirname(output_path)\n",
        "\n",
        "                if not os.path.exists(output_file_dir):\n",
        "                    os.makedirs(output_file_dir)\n",
        "\n",
        "                print(f\"Compressing {input_path} to {output_path}\")\n",
        "                compress_image(input_path, output_path)\n",
        "\n",
        "# Paths for input and output directories\n",
        "input_directory = \"/content/local\"  # Replace with the directory containing your images\n",
        "output_directory = \"/content/compress\"  # Replace with the directory where you want to save the compressed images\n",
        "\n",
        "compress_images_in_directory(input_directory, output_directory)\n"
      ],
      "metadata": {
        "id": "-4PuJFQ1GFHh"
      },
      "execution_count": null,
      "outputs": []
    }
  ]
}