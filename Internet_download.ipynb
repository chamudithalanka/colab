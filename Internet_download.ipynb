{
  "nbformat": 4,
  "nbformat_minor": 0,
  "metadata": {
    "colab": {
      "provenance": [],
      "authorship_tag": "ABX9TyMubIxcXXNPZPIh5JCAy6xn",
      "include_colab_link": true
    },
    "kernelspec": {
      "name": "python3",
      "display_name": "Python 3"
    },
    "language_info": {
      "name": "python"
    }
  },
  "cells": [
    {
      "cell_type": "markdown",
      "metadata": {
        "id": "view-in-github",
        "colab_type": "text"
      },
      "source": [
        "<a href=\"https://colab.research.google.com/github/chamudithalanka/colab/blob/main/Internet_download.ipynb\" target=\"_parent\"><img src=\"https://colab.research.google.com/assets/colab-badge.svg\" alt=\"Open In Colab\"/></a>"
      ]
    },
    {
      "cell_type": "code",
      "execution_count": null,
      "metadata": {
        "id": "z16brQF4Kua2"
      },
      "outputs": [],
      "source": [
        "!wget '#' -O /content/largefile.zip"
      ]
    },
    {
      "cell_type": "code",
      "source": [
        "!zip /content/largefile_compressed.zip /content/largefile.zip"
      ],
      "metadata": {
        "id": "op8oqaOWNL1-"
      },
      "execution_count": null,
      "outputs": []
    },
    {
      "cell_type": "code",
      "source": [
        "from google.colab import files\n",
        "files.download('/content/largefile_compressed.zip')"
      ],
      "metadata": {
        "id": "pNFNt4fFNSjK"
      },
      "execution_count": null,
      "outputs": []
    }
  ]
}