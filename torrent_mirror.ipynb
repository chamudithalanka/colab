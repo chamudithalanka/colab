{
  "nbformat": 4,
  "nbformat_minor": 0,
  "metadata": {
    "colab": {
      "provenance": [],
      "authorship_tag": "ABX9TyOpscGtFSC2/hljMkA3pJMI",
      "include_colab_link": true
    },
    "kernelspec": {
      "name": "python3",
      "display_name": "Python 3"
    },
    "language_info": {
      "name": "python"
    }
  },
  "cells": [
    {
      "cell_type": "markdown",
      "metadata": {
        "id": "view-in-github",
        "colab_type": "text"
      },
      "source": [
        "<a href=\"https://colab.research.google.com/github/chamudithalanka/colab/blob/main/torrent_mirror.ipynb\" target=\"_parent\"><img src=\"https://colab.research.google.com/assets/colab-badge.svg\" alt=\"Open In Colab\"/></a>"
      ]
    },
    {
      "cell_type": "code",
      "source": [
        "from google.colab import drive\n",
        "drive.mount('/content/drive')"
      ],
      "metadata": {
        "id": "3tgeaEiWZT-L"
      },
      "execution_count": null,
      "outputs": []
    },
    {
      "cell_type": "code",
      "source": [
        "!apt-get install python3-libtorrent"
      ],
      "metadata": {
        "id": "267pcXiNZeIO"
      },
      "execution_count": null,
      "outputs": []
    },
    {
      "cell_type": "code",
      "source": [
        "import libtorrent as lt\n",
        "import time\n",
        "import os\n",
        "\n",
        "# Create a session\n",
        "ses = lt.session()\n",
        "params = {\n",
        "    'save_path': '/content/drive/My Drive/torrents/',  # Path in Google Drive where the files will be saved\n",
        "    'storage_mode': lt.storage_mode_t(2)\n",
        "}\n",
        "\n",
        "# Add the magnet link\n",
        "link = \"magnet:?xt=urn:btih:78fd382c59ef4fc7028e7396ba3b951f3e877983&tr=http%3A%2F%2Fbt.uniondht.org%3A777%2Fannounce&tr=http%3A%2F%2Fretracker.local%2Fannounce&tr=http%3A%2F%2Fbt.rutor.org%3A2710%2Fannounce&tr=http%3A%2F%2Fpubt.net%3A2710%2Fannounce&tr=http%3A%2F%2Ftracker.publicbt.com%2Fannounce&tr=udp%3A%2F%2Ftracker.publicbt.com%3A80%2Fannounce&tr=udp%3A%2F%2Ftracker.openbittorrent.com%3A80%2Fannounce&tr=udp%3A%2F%2Ftracker.prq.to%3A80%2Fannounce&tr=http%3A%2F%2Ftracker.prq.to%2Fannounce\"  # Replace with your magnet link\n",
        "handle = lt.add_magnet_uri(ses, link, params)\n",
        "\n",
        "# Start downloading\n",
        "print('Downloading Metadata...')\n",
        "while not handle.has_metadata():\n",
        "    time.sleep(1)\n",
        "\n",
        "print('Got Metadata, Starting Torrent Download...')\n",
        "while handle.status().state != lt.torrent_status.seeding:\n",
        "    s = handle.status()\n",
        "    print(f'Download: {s.download_rate / 1000:.2f} kB/s | Progress: {s.progress * 100:.2f}%')\n",
        "    time.sleep(5)\n",
        "\n",
        "print('Download complete!')\n"
      ],
      "metadata": {
        "id": "4s8k_RhtZjLX"
      },
      "execution_count": null,
      "outputs": []
    },
    {
      "cell_type": "code",
      "source": [
        "drive.flush_and_unmount()"
      ],
      "metadata": {
        "id": "xs1pYRX_c8UD"
      },
      "execution_count": 4,
      "outputs": []
    }
  ]
}