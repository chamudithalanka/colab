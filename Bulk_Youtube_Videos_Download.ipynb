{
  "nbformat": 4,
  "nbformat_minor": 0,
  "metadata": {
    "colab": {
      "provenance": [],
      "authorship_tag": "ABX9TyN+seKiX73xy7uUM1Lsqk9Z",
      "include_colab_link": true
    },
    "kernelspec": {
      "name": "python3",
      "display_name": "Python 3"
    },
    "language_info": {
      "name": "python"
    }
  },
  "cells": [
    {
      "cell_type": "markdown",
      "metadata": {
        "id": "view-in-github",
        "colab_type": "text"
      },
      "source": [
        "<a href=\"https://colab.research.google.com/github/chamudithalanka/colab/blob/main/Bulk_Youtube_Videos_Download.ipynb\" target=\"_parent\"><img src=\"https://colab.research.google.com/assets/colab-badge.svg\" alt=\"Open In Colab\"/></a>"
      ]
    },
    {
      "cell_type": "code",
      "source": [
        "# Install yt-dlp\n",
        "!pip install -U yt-dlp\n",
        "\n",
        "import yt_dlp\n",
        "\n",
        "def download_video(url):\n",
        "    ydl_opts = {\n",
        "        'format': 'bestvideo[height<=360][ext=mp4]+bestaudio[ext=m4a]/best',\n",
        "        'outtmpl': '/content/video_%(title)s.%(ext)s'\n",
        "    }\n",
        "\n",
        "    with yt_dlp.YoutubeDL(ydl_opts) as ydl:\n",
        "        ydl.download([url])\n",
        "\n",
        "# List of video URLs\n",
        "video_urls = [\n",
        "    'https://www.youtube.com/watch?v=ub_PNPDdIAU',\n",
        "    'https://www.youtube.com/watch?v=uTO2BDMFaxQ',\n",
        "    'https://www.youtube.com/watch?v=BRFQQBASnSE',\n",
        "    'https://www.youtube.com/watch?v=uJTNdVBPo0s',\n",
        "    'https://www.youtube.com/watch?v=-Z6hio-D4nM',\n",
        "    'https://www.youtube.com/watch?v=gimpJi6xy94',\n",
        "    'https://www.youtube.com/watch?v=SBiUZwEhWNk',\n",
        "    'https://www.youtube.com/watch?v=9BzPr2kx7d0',\n",
        "]\n",
        "\n",
        "# Download videos\n",
        "for url in video_urls:\n",
        "    try:\n",
        "        download_video(url)\n",
        "        print(f\"Downloaded: {url}\")\n",
        "    except Exception as e:\n",
        "        print(f\"Failed to download {url}: {e}\")"
      ],
      "metadata": {
        "colab": {
          "base_uri": "https://localhost:8080/"
        },
        "id": "kXLNAMd2yU9b",
        "outputId": "5820ca99-b5e0-45e1-ea3f-6b5c14d9e3ca"
      },
      "execution_count": 5,
      "outputs": [
        {
          "output_type": "stream",
          "name": "stdout",
          "text": [
            "Requirement already satisfied: yt-dlp in /usr/local/lib/python3.10/dist-packages (2024.8.6)\n",
            "Requirement already satisfied: brotli in /usr/local/lib/python3.10/dist-packages (from yt-dlp) (1.1.0)\n",
            "Requirement already satisfied: certifi in /usr/local/lib/python3.10/dist-packages (from yt-dlp) (2024.8.30)\n",
            "Requirement already satisfied: mutagen in /usr/local/lib/python3.10/dist-packages (from yt-dlp) (1.47.0)\n",
            "Requirement already satisfied: pycryptodomex in /usr/local/lib/python3.10/dist-packages (from yt-dlp) (3.20.0)\n",
            "Requirement already satisfied: requests<3,>=2.32.2 in /usr/local/lib/python3.10/dist-packages (from yt-dlp) (2.32.3)\n",
            "Requirement already satisfied: urllib3<3,>=1.26.17 in /usr/local/lib/python3.10/dist-packages (from yt-dlp) (2.0.7)\n",
            "Requirement already satisfied: websockets>=12.0 in /usr/local/lib/python3.10/dist-packages (from yt-dlp) (13.0.1)\n",
            "Requirement already satisfied: charset-normalizer<4,>=2 in /usr/local/lib/python3.10/dist-packages (from requests<3,>=2.32.2->yt-dlp) (3.3.2)\n",
            "Requirement already satisfied: idna<4,>=2.5 in /usr/local/lib/python3.10/dist-packages (from requests<3,>=2.32.2->yt-dlp) (3.8)\n",
            "[youtube] Extracting URL: https://www.youtube.com/watch?v=ub_PNPDdIAU\n",
            "[youtube] ub_PNPDdIAU: Downloading webpage\n",
            "[youtube] ub_PNPDdIAU: Downloading ios player API JSON\n",
            "[youtube] ub_PNPDdIAU: Downloading web creator player API JSON\n",
            "[youtube] ub_PNPDdIAU: Downloading m3u8 information\n",
            "[info] ub_PNPDdIAU: Downloading 1 format(s): 605+140\n",
            "[hlsnative] Downloading m3u8 manifest\n",
            "[hlsnative] Total fragments: 428\n",
            "[download] Destination: /content/video_වෙසක් ජහුටාව ｜ Wesak Jahutawa ｜ Vini Productions - විනී.f605.mp4\n",
            "[download] 100% of   82.76MiB in 00:00:54 at 1.53MiB/s                   \n",
            "[download] Destination: /content/video_වෙසක් ජහුටාව ｜ Wesak Jahutawa ｜ Vini Productions - විනී.f140.m4a\n",
            "[download] 100% of   35.26MiB in 00:00:00 at 37.60MiB/s  \n",
            "[Merger] Merging formats into \"/content/video_වෙසක් ජහුටාව ｜ Wesak Jahutawa ｜ Vini Productions - විනී.mp4\"\n",
            "Deleting original file /content/video_වෙසක් ජහුටාව ｜ Wesak Jahutawa ｜ Vini Productions - විනී.f605.mp4 (pass -k to keep)\n",
            "Deleting original file /content/video_වෙසක් ජහුටාව ｜ Wesak Jahutawa ｜ Vini Productions - විනී.f140.m4a (pass -k to keep)\n",
            "Downloaded: https://www.youtube.com/watch?v=ub_PNPDdIAU\n",
            "[youtube] Extracting URL: https://www.youtube.com/watch?v=uTO2BDMFaxQ\n",
            "[youtube] uTO2BDMFaxQ: Downloading webpage\n",
            "[youtube] uTO2BDMFaxQ: Downloading ios player API JSON\n",
            "[youtube] uTO2BDMFaxQ: Downloading web creator player API JSON\n",
            "[youtube] uTO2BDMFaxQ: Downloading m3u8 information\n",
            "[info] uTO2BDMFaxQ: Downloading 1 format(s): 605+140\n",
            "[hlsnative] Downloading m3u8 manifest\n",
            "[hlsnative] Total fragments: 182\n",
            "[download] Destination: /content/video_අවුරුදු කෑම ｜ Awurudu Kema ｜ Vini Productions - විනී.f605.mp4\n",
            "[download] 100% of   37.29MiB in 00:00:13 at 2.68MiB/s                   \n",
            "[download] Destination: /content/video_අවුරුදු කෑම ｜ Awurudu Kema ｜ Vini Productions - විනී.f140.m4a\n",
            "[download] 100% of   15.01MiB in 00:00:01 at 10.54MiB/s  \n",
            "[Merger] Merging formats into \"/content/video_අවුරුදු කෑම ｜ Awurudu Kema ｜ Vini Productions - විනී.mp4\"\n",
            "Deleting original file /content/video_අවුරුදු කෑම ｜ Awurudu Kema ｜ Vini Productions - විනී.f140.m4a (pass -k to keep)\n",
            "Deleting original file /content/video_අවුරුදු කෑම ｜ Awurudu Kema ｜ Vini Productions - විනී.f605.mp4 (pass -k to keep)\n",
            "Downloaded: https://www.youtube.com/watch?v=uTO2BDMFaxQ\n",
            "[youtube] Extracting URL: https://www.youtube.com/watch?v=BRFQQBASnSE\n",
            "[youtube] BRFQQBASnSE: Downloading webpage\n",
            "[youtube] BRFQQBASnSE: Downloading ios player API JSON\n",
            "[youtube] BRFQQBASnSE: Downloading web creator player API JSON\n",
            "[youtube] BRFQQBASnSE: Downloading m3u8 information\n",
            "[info] BRFQQBASnSE: Downloading 1 format(s): 605+140\n",
            "[hlsnative] Downloading m3u8 manifest\n",
            "[hlsnative] Total fragments: 289\n",
            "[download] Destination: /content/video_බෝම්බය ｜ The Bomb ｜ Vini Productions - විනී.f605.mp4\n",
            "[download] 100% of   63.02MiB in 00:00:19 at 3.23MiB/s                   \n",
            "[download] Destination: /content/video_බෝම්බය ｜ The Bomb ｜ Vini Productions - විනී.f140.m4a\n",
            "[download] 100% of   24.00MiB in 00:00:01 at 23.74MiB/s  \n",
            "[Merger] Merging formats into \"/content/video_බෝම්බය ｜ The Bomb ｜ Vini Productions - විනී.mp4\"\n",
            "Deleting original file /content/video_බෝම්බය ｜ The Bomb ｜ Vini Productions - විනී.f605.mp4 (pass -k to keep)\n",
            "Deleting original file /content/video_බෝම්බය ｜ The Bomb ｜ Vini Productions - විනී.f140.m4a (pass -k to keep)\n",
            "Downloaded: https://www.youtube.com/watch?v=BRFQQBASnSE\n",
            "[youtube] Extracting URL: https://www.youtube.com/watch?v=uJTNdVBPo0s\n",
            "[youtube] uJTNdVBPo0s: Downloading webpage\n",
            "[youtube] uJTNdVBPo0s: Downloading ios player API JSON\n",
            "[youtube] uJTNdVBPo0s: Downloading web creator player API JSON\n",
            "[youtube] uJTNdVBPo0s: Downloading m3u8 information\n",
            "[info] uJTNdVBPo0s: Downloading 1 format(s): 605+140\n",
            "[hlsnative] Downloading m3u8 manifest\n",
            "[hlsnative] Total fragments: 280\n",
            "[download] Destination: /content/video_පම්පෝරි ජනක 04 ｜ Pampori Janaka 04 ｜ Vini Productions - විනී.f605.mp4\n",
            "[download] 100% of   55.60MiB in 00:00:22 at 2.49MiB/s                   \n",
            "[download] Destination: /content/video_පම්පෝරි ජනක 04 ｜ Pampori Janaka 04 ｜ Vini Productions - විනී.f140.m4a\n",
            "[download] 100% of   23.32MiB in 00:00:01 at 15.34MiB/s  \n",
            "[Merger] Merging formats into \"/content/video_පම්පෝරි ජනක 04 ｜ Pampori Janaka 04 ｜ Vini Productions - විනී.mp4\"\n",
            "Deleting original file /content/video_පම්පෝරි ජනක 04 ｜ Pampori Janaka 04 ｜ Vini Productions - විනී.f140.m4a (pass -k to keep)\n",
            "Deleting original file /content/video_පම්පෝරි ජනක 04 ｜ Pampori Janaka 04 ｜ Vini Productions - විනී.f605.mp4 (pass -k to keep)\n",
            "Downloaded: https://www.youtube.com/watch?v=uJTNdVBPo0s\n",
            "[youtube] Extracting URL: https://www.youtube.com/watch?v=-Z6hio-D4nM\n",
            "[youtube] -Z6hio-D4nM: Downloading webpage\n",
            "[youtube] -Z6hio-D4nM: Downloading ios player API JSON\n",
            "[youtube] -Z6hio-D4nM: Downloading web creator player API JSON\n",
            "[youtube] -Z6hio-D4nM: Downloading player e38bb6de\n",
            "[youtube] -Z6hio-D4nM: Downloading m3u8 information\n",
            "[info] -Z6hio-D4nM: Downloading 1 format(s): 605+140\n",
            "[hlsnative] Downloading m3u8 manifest\n",
            "[hlsnative] Total fragments: 95\n",
            "[download] Destination: /content/video_මැයි 09 ｜ May 09 ｜ Vini Productions.f605.mp4\n",
            "[download] 100% of   17.32MiB in 00:00:07 at 2.46MiB/s                 \n",
            "[download] Destination: /content/video_මැයි 09 ｜ May 09 ｜ Vini Productions.f140.m4a\n",
            "[download] 100% of    7.84MiB in 00:00:00 at 18.17MiB/s  \n",
            "[Merger] Merging formats into \"/content/video_මැයි 09 ｜ May 09 ｜ Vini Productions.mp4\"\n",
            "Deleting original file /content/video_මැයි 09 ｜ May 09 ｜ Vini Productions.f140.m4a (pass -k to keep)\n",
            "Deleting original file /content/video_මැයි 09 ｜ May 09 ｜ Vini Productions.f605.mp4 (pass -k to keep)\n",
            "Downloaded: https://www.youtube.com/watch?v=-Z6hio-D4nM\n",
            "[youtube] Extracting URL: https://www.youtube.com/watch?v=gimpJi6xy94\n",
            "[youtube] gimpJi6xy94: Downloading webpage\n",
            "[youtube] gimpJi6xy94: Downloading ios player API JSON\n",
            "[youtube] gimpJi6xy94: Downloading web creator player API JSON\n",
            "[youtube] gimpJi6xy94: Downloading m3u8 information\n",
            "[info] gimpJi6xy94: Downloading 1 format(s): 605+140\n",
            "[hlsnative] Downloading m3u8 manifest\n",
            "[hlsnative] Total fragments: 339\n",
            "[download] Destination: /content/video_භූත මන්දිරය ｜ The Demons House ｜ Vini Productions.f605.mp4\n",
            "[download] 100% of   62.99MiB in 00:00:30 at 2.08MiB/s                   \n",
            "[download] Destination: /content/video_භූත මන්දිරය ｜ The Demons House ｜ Vini Productions.f140.m4a\n",
            "[download] 100% of   27.56MiB in 00:00:02 at 9.42MiB/s   \n",
            "[Merger] Merging formats into \"/content/video_භූත මන්දිරය ｜ The Demons House ｜ Vini Productions.mp4\"\n",
            "Deleting original file /content/video_භූත මන්දිරය ｜ The Demons House ｜ Vini Productions.f140.m4a (pass -k to keep)\n",
            "Deleting original file /content/video_භූත මන්දිරය ｜ The Demons House ｜ Vini Productions.f605.mp4 (pass -k to keep)\n",
            "Downloaded: https://www.youtube.com/watch?v=gimpJi6xy94\n",
            "[youtube] Extracting URL: https://www.youtube.com/watch?v=SBiUZwEhWNk\n",
            "[youtube] SBiUZwEhWNk: Downloading webpage\n",
            "[youtube] SBiUZwEhWNk: Downloading ios player API JSON\n",
            "[youtube] SBiUZwEhWNk: Downloading web creator player API JSON\n",
            "[youtube] SBiUZwEhWNk: Downloading m3u8 information\n",
            "[info] SBiUZwEhWNk: Downloading 1 format(s): 605+140\n",
            "[hlsnative] Downloading m3u8 manifest\n",
            "[hlsnative] Total fragments: 167\n",
            "[download] Destination: /content/video_තොරණ් රාජයා ｜ Vini Productions.f605.mp4\n",
            "[download] 100% of   30.49MiB in 00:00:11 at 2.67MiB/s                   \n",
            "[download] Destination: /content/video_තොරණ් රාජයා ｜ Vini Productions.f140.m4a\n",
            "[download] 100% of   13.72MiB in 00:00:00 at 18.98MiB/s  \n",
            "[Merger] Merging formats into \"/content/video_තොරණ් රාජයා ｜ Vini Productions.mp4\"\n",
            "Deleting original file /content/video_තොරණ් රාජයා ｜ Vini Productions.f605.mp4 (pass -k to keep)\n",
            "Deleting original file /content/video_තොරණ් රාජයා ｜ Vini Productions.f140.m4a (pass -k to keep)\n",
            "Downloaded: https://www.youtube.com/watch?v=SBiUZwEhWNk\n",
            "[youtube] Extracting URL: https://www.youtube.com/watch?v=9BzPr2kx7d0\n",
            "[youtube] 9BzPr2kx7d0: Downloading webpage\n",
            "[youtube] 9BzPr2kx7d0: Downloading ios player API JSON\n",
            "[youtube] 9BzPr2kx7d0: Downloading web creator player API JSON\n",
            "[youtube] 9BzPr2kx7d0: Downloading m3u8 information\n",
            "[info] 9BzPr2kx7d0: Downloading 1 format(s): 605+140\n",
            "[hlsnative] Downloading m3u8 manifest\n",
            "[hlsnative] Total fragments: 85\n",
            "[download] Destination: /content/video_හෝ හෝ බාසුන්නැහේ ｜ Vini productions.f605.mp4\n",
            "[download] 100% of   19.76MiB in 00:00:11 at 1.74MiB/s                 \n",
            "[download] Destination: /content/video_හෝ හෝ බාසුන්නැහේ ｜ Vini productions.f140.m4a\n",
            "[download] 100% of    6.84MiB in 00:00:00 at 24.38MiB/s  \n",
            "[Merger] Merging formats into \"/content/video_හෝ හෝ බාසුන්නැහේ ｜ Vini productions.mp4\"\n",
            "Deleting original file /content/video_හෝ හෝ බාසුන්නැහේ ｜ Vini productions.f605.mp4 (pass -k to keep)\n",
            "Deleting original file /content/video_හෝ හෝ බාසුන්නැහේ ｜ Vini productions.f140.m4a (pass -k to keep)\n",
            "Downloaded: https://www.youtube.com/watch?v=9BzPr2kx7d0\n"
          ]
        }
      ]
    },
    {
      "cell_type": "code",
      "source": [
        "import zipfile\n",
        "import os\n",
        "\n",
        "# Create a zip file\n",
        "zip_filename = '/content/videos.zip'\n",
        "with zipfile.ZipFile(zip_filename, 'w') as zipf:\n",
        "    # Add downloaded videos to the zip file\n",
        "    for root, dirs, files in os.walk('/content'):\n",
        "        for file in files:\n",
        "            if file.endswith('.mp4'):\n",
        "                zipf.write(os.path.join(root, file), arcname=file)\n",
        "\n",
        "zip_filename"
      ],
      "metadata": {
        "colab": {
          "base_uri": "https://localhost:8080/",
          "height": 36
        },
        "id": "Jnc511yL3AGE",
        "outputId": "2c8e5176-5dca-401e-b878-2ce5d465e4cb"
      },
      "execution_count": 6,
      "outputs": [
        {
          "output_type": "execute_result",
          "data": {
            "text/plain": [
              "'/content/videos.zip'"
            ],
            "application/vnd.google.colaboratory.intrinsic+json": {
              "type": "string"
            }
          },
          "metadata": {},
          "execution_count": 6
        }
      ]
    },
    {
      "cell_type": "code",
      "source": [
        "from google.colab import files\n",
        "files.download(zip_filename)"
      ],
      "metadata": {
        "colab": {
          "base_uri": "https://localhost:8080/",
          "height": 34
        },
        "id": "CdO3nnsu3MIF",
        "outputId": "1dcc74b7-9ccc-466b-d287-8269cf35b85d"
      },
      "execution_count": 7,
      "outputs": [
        {
          "output_type": "display_data",
          "data": {
            "text/plain": [
              "<IPython.core.display.Javascript object>"
            ],
            "application/javascript": [
              "\n",
              "    async function download(id, filename, size) {\n",
              "      if (!google.colab.kernel.accessAllowed) {\n",
              "        return;\n",
              "      }\n",
              "      const div = document.createElement('div');\n",
              "      const label = document.createElement('label');\n",
              "      label.textContent = `Downloading \"${filename}\": `;\n",
              "      div.appendChild(label);\n",
              "      const progress = document.createElement('progress');\n",
              "      progress.max = size;\n",
              "      div.appendChild(progress);\n",
              "      document.body.appendChild(div);\n",
              "\n",
              "      const buffers = [];\n",
              "      let downloaded = 0;\n",
              "\n",
              "      const channel = await google.colab.kernel.comms.open(id);\n",
              "      // Send a message to notify the kernel that we're ready.\n",
              "      channel.send({})\n",
              "\n",
              "      for await (const message of channel.messages) {\n",
              "        // Send a message to notify the kernel that we're ready.\n",
              "        channel.send({})\n",
              "        if (message.buffers) {\n",
              "          for (const buffer of message.buffers) {\n",
              "            buffers.push(buffer);\n",
              "            downloaded += buffer.byteLength;\n",
              "            progress.value = downloaded;\n",
              "          }\n",
              "        }\n",
              "      }\n",
              "      const blob = new Blob(buffers, {type: 'application/binary'});\n",
              "      const a = document.createElement('a');\n",
              "      a.href = window.URL.createObjectURL(blob);\n",
              "      a.download = filename;\n",
              "      div.appendChild(a);\n",
              "      a.click();\n",
              "      div.remove();\n",
              "    }\n",
              "  "
            ]
          },
          "metadata": {}
        },
        {
          "output_type": "display_data",
          "data": {
            "text/plain": [
              "<IPython.core.display.Javascript object>"
            ],
            "application/javascript": [
              "download(\"download_87cfc6f4-75c6-4391-a50e-90c30c4c0153\", \"videos.zip\", 552486938)"
            ]
          },
          "metadata": {}
        }
      ]
    }
  ]
}