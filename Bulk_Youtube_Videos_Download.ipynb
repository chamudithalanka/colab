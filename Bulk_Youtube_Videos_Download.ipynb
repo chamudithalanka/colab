{
  "nbformat": 4,
  "nbformat_minor": 0,
  "metadata": {
    "colab": {
      "provenance": [],
      "authorship_tag": "ABX9TyO0L0nS5BMi5cCBKquSX3vu",
      "include_colab_link": true
    },
    "kernelspec": {
      "name": "python3",
      "display_name": "Python 3"
    },
    "language_info": {
      "name": "python"
    }
  },
  "cells": [
    {
      "cell_type": "markdown",
      "metadata": {
        "id": "view-in-github",
        "colab_type": "text"
      },
      "source": [
        "<a href=\"https://colab.research.google.com/github/chamudithalanka/colab/blob/main/Bulk_Youtube_Videos_Download.ipynb\" target=\"_parent\"><img src=\"https://colab.research.google.com/assets/colab-badge.svg\" alt=\"Open In Colab\"/></a>"
      ]
    },
    {
      "cell_type": "code",
      "source": [
        "# Install yt-dlp\n",
        "!pip install -U yt-dlp\n",
        "\n",
        "import yt_dlp\n",
        "\n",
        "def download_video(url):\n",
        "    ydl_opts = {\n",
        "        'format': 'bestvideo[height<=360][ext=mp4]+bestaudio[ext=m4a]/best',\n",
        "        'outtmpl': '/content/video_%(title)s.%(ext)s'\n",
        "    }\n",
        "\n",
        "    with yt_dlp.YoutubeDL(ydl_opts) as ydl:\n",
        "        ydl.download([url])\n",
        "\n",
        "# List of video URLs\n",
        "video_urls = [\n",
        "    'https://www.youtube.com/watch?v=dQw4w9WgXcQ',\n",
        "    'https://www.youtube.com/watch?v=oHg5SJYRHA0',\n",
        "]\n",
        "\n",
        "# Download videos\n",
        "for url in video_urls:\n",
        "    try:\n",
        "        download_video(url)\n",
        "        print(f\"Downloaded: {url}\")\n",
        "    except Exception as e:\n",
        "        print(f\"Failed to download {url}: {e}\")"
      ],
      "metadata": {
        "id": "kXLNAMd2yU9b"
      },
      "execution_count": null,
      "outputs": []
    }
  ]
}