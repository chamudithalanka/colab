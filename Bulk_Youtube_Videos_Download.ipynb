{
  "nbformat": 4,
  "nbformat_minor": 0,
  "metadata": {
    "colab": {
      "provenance": [],
      "authorship_tag": "ABX9TyP7m1JquhhtXma8z8ZqCJXn",
      "include_colab_link": true
    },
    "kernelspec": {
      "name": "python3",
      "display_name": "Python 3"
    },
    "language_info": {
      "name": "python"
    }
  },
  "cells": [
    {
      "cell_type": "markdown",
      "metadata": {
        "id": "view-in-github",
        "colab_type": "text"
      },
      "source": [
        "<a href=\"https://colab.research.google.com/github/chamudithalanka/colab/blob/main/Bulk_Youtube_Videos_Download.ipynb\" target=\"_parent\"><img src=\"https://colab.research.google.com/assets/colab-badge.svg\" alt=\"Open In Colab\"/></a>"
      ]
    },
    {
      "cell_type": "code",
      "source": [
        "# Install yt-dlp\n",
        "!pip install -U yt-dlp\n",
        "\n",
        "import yt_dlp\n",
        "\n",
        "def download_video(url):\n",
        "    ydl_opts = {\n",
        "        'format': 'bestvideo[height<=360][ext=mp4]+bestaudio[ext=m4a]/best',\n",
        "        'outtmpl': '/content/video_%(title)s.%(ext)s'\n",
        "    }\n",
        "\n",
        "    with yt_dlp.YoutubeDL(ydl_opts) as ydl:\n",
        "        ydl.download([url])\n",
        "\n",
        "# List of video URLs\n",
        "video_urls = [\n",
        "    'https://www.youtube.com/watch?v=ub_PNPDdIAU',\n",
        "    'https://www.youtube.com/watch?v=uTO2BDMFaxQ',\n",
        "    'https://www.youtube.com/watch?v=BRFQQBASnSE',\n",
        "    'https://www.youtube.com/watch?v=uJTNdVBPo0s',\n",
        "    'https://www.youtube.com/watch?v=-Z6hio-D4nM',\n",
        "    'https://www.youtube.com/watch?v=gimpJi6xy94',\n",
        "    'https://www.youtube.com/watch?v=SBiUZwEhWNk',\n",
        "    'https://www.youtube.com/watch?v=9BzPr2kx7d0',\n",
        "]\n",
        "\n",
        "# Download videos\n",
        "for url in video_urls:\n",
        "    try:\n",
        "        download_video(url)\n",
        "        print(f\"Downloaded: {url}\")\n",
        "    except Exception as e:\n",
        "        print(f\"Failed to download {url}: {e}\")"
      ],
      "metadata": {
        "id": "kXLNAMd2yU9b"
      },
      "execution_count": null,
      "outputs": []
    },
    {
      "cell_type": "code",
      "source": [
        "import zipfile\n",
        "import os\n",
        "\n",
        "# Create a zip file\n",
        "zip_filename = '/content/videos.zip'\n",
        "with zipfile.ZipFile(zip_filename, 'w') as zipf:\n",
        "    # Add downloaded videos to the zip file\n",
        "    for root, dirs, files in os.walk('/content'):\n",
        "        for file in files:\n",
        "            if file.endswith('.mp4'):\n",
        "                zipf.write(os.path.join(root, file), arcname=file)\n",
        "\n",
        "zip_filename"
      ],
      "metadata": {
        "id": "Jnc511yL3AGE"
      },
      "execution_count": null,
      "outputs": []
    },
    {
      "cell_type": "code",
      "source": [
        "from google.colab import files\n",
        "files.download(zip_filename)"
      ],
      "metadata": {
        "id": "CdO3nnsu3MIF"
      },
      "execution_count": null,
      "outputs": []
    },
    {
      "cell_type": "markdown",
      "source": [
        "After Save .zip file to your local storage run this shell."
      ],
      "metadata": {
        "id": "K6HcLLmyE_LH"
      }
    },
    {
      "cell_type": "code",
      "source": [
        "!rm /content/*.mp4\n",
        "!rm /content/videos.zip"
      ],
      "metadata": {
        "id": "ZZfB6IAVEumg"
      },
      "execution_count": null,
      "outputs": []
    }
  ]
}