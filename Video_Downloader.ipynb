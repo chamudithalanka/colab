{
  "nbformat": 4,
  "nbformat_minor": 0,
  "metadata": {
    "colab": {
      "provenance": [],
      "include_colab_link": true
    },
    "kernelspec": {
      "name": "python3",
      "display_name": "Python 3"
    },
    "language_info": {
      "name": "python"
    }
  },
  "cells": [
    {
      "cell_type": "markdown",
      "metadata": {
        "id": "view-in-github",
        "colab_type": "text"
      },
      "source": [
        "<a href=\"https://colab.research.google.com/github/chamudithalanka/colab/blob/main/Video_Downloader.ipynb\" target=\"_parent\"><img src=\"https://colab.research.google.com/assets/colab-badge.svg\" alt=\"Open In Colab\"/></a>"
      ]
    },
    {
      "cell_type": "code",
      "source": [
        "# Install ClamAV on Colab\n",
        "!apt-get update\n",
        "!apt-get install -y clamav\n",
        "!freshclam  # Update the virus definitions"
      ],
      "metadata": {
        "colab": {
          "base_uri": "https://localhost:8080/"
        },
        "id": "AjJMG-lBNBId",
        "outputId": "1761df4c-f4b3-4e90-a011-e48ce5e05c93"
      },
      "execution_count": null,
      "outputs": [
        {
          "output_type": "stream",
          "name": "stdout",
          "text": [
            "\r0% [Working]\r            \rGet:1 https://cloud.r-project.org/bin/linux/ubuntu jammy-cran40/ InRelease [3,626 B]\n",
            "\r0% [Waiting for headers] [Waiting for headers] [1 InRelease 3,626 B/3,626 B 100%] [Connecting to r2u\r0% [Waiting for headers] [Waiting for headers] [Connecting to r2u.stat.illinois.edu (192.17.190.167)\r                                                                                                    \rGet:2 https://developer.download.nvidia.com/compute/cuda/repos/ubuntu2204/x86_64  InRelease [1,581 B]\n",
            "\r0% [Waiting for headers] [Waiting for headers] [Connected to r2u.stat.illinois.edu (192.17.190.167)]\r0% [Waiting for headers] [Waiting for headers] [Connected to r2u.stat.illinois.edu (192.17.190.167)]\r                                                                                                    \rHit:3 https://ppa.launchpadcontent.net/deadsnakes/ppa/ubuntu jammy InRelease\n",
            "\r0% [Waiting for headers] [Waiting for headers] [Connected to r2u.stat.illinois.edu (192.17.190.167)]\r                                                                                                    \rGet:4 http://security.ubuntu.com/ubuntu jammy-security InRelease [129 kB]\n",
            "\r0% [Waiting for headers] [4 InRelease 14.2 kB/129 kB 11%] [Connected to r2u.stat.illinois.edu (192.1\r                                                                                                    \rHit:5 https://ppa.launchpadcontent.net/graphics-drivers/ppa/ubuntu jammy InRelease\n",
            "\r0% [Waiting for headers] [4 InRelease 14.2 kB/129 kB 11%] [Connected to r2u.stat.illinois.edu (192.1\r                                                                                                    \rHit:6 http://archive.ubuntu.com/ubuntu jammy InRelease\n",
            "Hit:7 https://ppa.launchpadcontent.net/ubuntugis/ppa/ubuntu jammy InRelease\n",
            "Get:8 http://archive.ubuntu.com/ubuntu jammy-updates InRelease [128 kB]\n",
            "Get:9 https://developer.download.nvidia.com/compute/cuda/repos/ubuntu2204/x86_64  Packages [999 kB]\n",
            "Ign:10 https://r2u.stat.illinois.edu/ubuntu jammy InRelease\n",
            "Get:11 https://r2u.stat.illinois.edu/ubuntu jammy Release [5,713 B]\n",
            "Hit:12 http://archive.ubuntu.com/ubuntu jammy-backports InRelease\n",
            "Get:13 https://r2u.stat.illinois.edu/ubuntu jammy Release.gpg [793 B]\n",
            "Get:14 http://security.ubuntu.com/ubuntu jammy-security/restricted amd64 Packages [3,030 kB]\n",
            "Get:15 http://archive.ubuntu.com/ubuntu jammy-updates/universe amd64 Packages [1,439 kB]\n",
            "Get:16 http://security.ubuntu.com/ubuntu jammy-security/universe amd64 Packages [1,150 kB]\n",
            "Get:17 http://security.ubuntu.com/ubuntu jammy-security/main amd64 Packages [2,267 kB]\n",
            "Get:18 http://archive.ubuntu.com/ubuntu jammy-updates/main amd64 Packages [2,541 kB]\n",
            "Get:19 https://r2u.stat.illinois.edu/ubuntu jammy/main amd64 Packages [2,576 kB]\n",
            "Get:20 http://archive.ubuntu.com/ubuntu jammy-updates/restricted amd64 Packages [3,108 kB]\n",
            "Get:21 https://r2u.stat.illinois.edu/ubuntu jammy/main all Packages [8,311 kB]\n",
            "Fetched 25.7 MB in 3s (7,738 kB/s)\n",
            "Reading package lists... Done\n",
            "W: Skipping acquire of configured file 'main/source/Sources' as repository 'https://r2u.stat.illinois.edu/ubuntu jammy InRelease' does not seem to provide it (sources.list entry misspelt?)\n",
            "Reading package lists... Done\n",
            "Building dependency tree... Done\n",
            "Reading state information... Done\n",
            "The following additional packages will be installed:\n",
            "  clamav-base clamav-freshclam libclamav9 libmspack0 libtfm1 logrotate\n",
            "Suggested packages:\n",
            "  libclamunrar clamav-docs apparmor libclamunrar9 bsd-mailx | mailx\n",
            "The following NEW packages will be installed:\n",
            "  clamav clamav-base clamav-freshclam libclamav9 libmspack0 libtfm1 logrotate\n",
            "0 upgraded, 7 newly installed, 0 to remove and 53 not upgraded.\n",
            "Need to get 1,323 kB of archives.\n",
            "After this operation, 4,149 kB of additional disk space will be used.\n",
            "Get:1 http://archive.ubuntu.com/ubuntu jammy-updates/main amd64 logrotate amd64 3.19.0-1ubuntu1.1 [54.3 kB]\n",
            "Get:2 http://archive.ubuntu.com/ubuntu jammy-updates/main amd64 clamav-base all 0.103.11+dfsg-0ubuntu0.22.04.1 [79.3 kB]\n",
            "Get:3 http://archive.ubuntu.com/ubuntu jammy/main amd64 libmspack0 amd64 0.10.1-2build2 [39.6 kB]\n",
            "Get:4 http://archive.ubuntu.com/ubuntu jammy/main amd64 libtfm1 amd64 0.13-4build2 [65.9 kB]\n",
            "Get:5 http://archive.ubuntu.com/ubuntu jammy-updates/main amd64 libclamav9 amd64 0.103.11+dfsg-0ubuntu0.22.04.1 [880 kB]\n",
            "Get:6 http://archive.ubuntu.com/ubuntu jammy-updates/main amd64 clamav-freshclam amd64 0.103.11+dfsg-0ubuntu0.22.04.1 [70.6 kB]\n",
            "Get:7 http://archive.ubuntu.com/ubuntu jammy-updates/main amd64 clamav amd64 0.103.11+dfsg-0ubuntu0.22.04.1 [134 kB]\n",
            "Fetched 1,323 kB in 1s (1,633 kB/s)\n",
            "Preconfiguring packages ...\n",
            "Selecting previously unselected package logrotate.\n",
            "(Reading database ... 123597 files and directories currently installed.)\n",
            "Preparing to unpack .../0-logrotate_3.19.0-1ubuntu1.1_amd64.deb ...\n",
            "Unpacking logrotate (3.19.0-1ubuntu1.1) ...\n",
            "Selecting previously unselected package clamav-base.\n",
            "Preparing to unpack .../1-clamav-base_0.103.11+dfsg-0ubuntu0.22.04.1_all.deb ...\n",
            "Unpacking clamav-base (0.103.11+dfsg-0ubuntu0.22.04.1) ...\n",
            "Selecting previously unselected package libmspack0:amd64.\n",
            "Preparing to unpack .../2-libmspack0_0.10.1-2build2_amd64.deb ...\n",
            "Unpacking libmspack0:amd64 (0.10.1-2build2) ...\n",
            "Selecting previously unselected package libtfm1:amd64.\n",
            "Preparing to unpack .../3-libtfm1_0.13-4build2_amd64.deb ...\n",
            "Unpacking libtfm1:amd64 (0.13-4build2) ...\n",
            "Selecting previously unselected package libclamav9:amd64.\n",
            "Preparing to unpack .../4-libclamav9_0.103.11+dfsg-0ubuntu0.22.04.1_amd64.deb ...\n",
            "Unpacking libclamav9:amd64 (0.103.11+dfsg-0ubuntu0.22.04.1) ...\n",
            "Selecting previously unselected package clamav-freshclam.\n",
            "Preparing to unpack .../5-clamav-freshclam_0.103.11+dfsg-0ubuntu0.22.04.1_amd64.deb ...\n",
            "Unpacking clamav-freshclam (0.103.11+dfsg-0ubuntu0.22.04.1) ...\n",
            "Selecting previously unselected package clamav.\n",
            "Preparing to unpack .../6-clamav_0.103.11+dfsg-0ubuntu0.22.04.1_amd64.deb ...\n",
            "Unpacking clamav (0.103.11+dfsg-0ubuntu0.22.04.1) ...\n",
            "Setting up logrotate (3.19.0-1ubuntu1.1) ...\n",
            "Created symlink /etc/systemd/system/timers.target.wants/logrotate.timer → /lib/systemd/system/logrotate.timer.\n",
            "Setting up libmspack0:amd64 (0.10.1-2build2) ...\n",
            "Setting up libtfm1:amd64 (0.13-4build2) ...\n",
            "Setting up libclamav9:amd64 (0.103.11+dfsg-0ubuntu0.22.04.1) ...\n",
            "Setting up clamav-base (0.103.11+dfsg-0ubuntu0.22.04.1) ...\n",
            "id: ‘clamav’: no such user\n",
            "Setting up clamav-freshclam (0.103.11+dfsg-0ubuntu0.22.04.1) ...\n",
            "Created symlink /etc/systemd/system/multi-user.target.wants/clamav-freshclam.service → /lib/systemd/system/clamav-freshclam.service.\n",
            "invoke-rc.d: could not determine current runlevel\n",
            "invoke-rc.d: policy-rc.d denied execution of start.\n",
            "Setting up clamav (0.103.11+dfsg-0ubuntu0.22.04.1) ...\n",
            "Processing triggers for man-db (2.10.2-1) ...\n",
            "Processing triggers for libc-bin (2.35-0ubuntu3.4) ...\n",
            "/sbin/ldconfig.real: /usr/local/lib/libtbbmalloc.so.2 is not a symbolic link\n",
            "\n",
            "/sbin/ldconfig.real: /usr/local/lib/libtbbbind_2_5.so.3 is not a symbolic link\n",
            "\n",
            "/sbin/ldconfig.real: /usr/local/lib/libtbb.so.12 is not a symbolic link\n",
            "\n",
            "/sbin/ldconfig.real: /usr/local/lib/libtbbbind.so.3 is not a symbolic link\n",
            "\n",
            "/sbin/ldconfig.real: /usr/local/lib/libtbbmalloc_proxy.so.2 is not a symbolic link\n",
            "\n",
            "/sbin/ldconfig.real: /usr/local/lib/libur_adapter_opencl.so.0 is not a symbolic link\n",
            "\n",
            "/sbin/ldconfig.real: /usr/local/lib/libtbbbind_2_0.so.3 is not a symbolic link\n",
            "\n",
            "/sbin/ldconfig.real: /usr/local/lib/libur_loader.so.0 is not a symbolic link\n",
            "\n",
            "/sbin/ldconfig.real: /usr/local/lib/libur_adapter_level_zero.so.0 is not a symbolic link\n",
            "\n",
            "Fri Sep 13 16:25:44 2024 -> ClamAV update process started at Fri Sep 13 16:25:44 2024\n",
            "Fri Sep 13 16:25:44 2024 -> ^Your ClamAV installation is OUTDATED!\n",
            "Fri Sep 13 16:25:44 2024 -> ^Local version: 0.103.11 Recommended version: 0.103.12\n",
            "Fri Sep 13 16:25:44 2024 -> DON'T PANIC! Read https://docs.clamav.net/manual/Installing.html\n",
            "Fri Sep 13 16:25:44 2024 -> daily database available for download (remote version: 27397)\n",
            "\u001b[?7h\u001b[?7lTime:    0.4s, ETA:    0.0s [========================>]   61.16MiB/61.16MiB\n",
            "\u001b[?7hFri Sep 13 16:25:46 2024 -> Testing database: '/var/lib/clamav/tmp.cee325bd2f/clamav-b5debd9ce4d9b74e32184bf0d022346a.tmp-daily.cvd' ...\n",
            "Fri Sep 13 16:25:57 2024 -> Database test passed.\n",
            "Fri Sep 13 16:25:57 2024 -> daily.cvd updated (version: 27397, sigs: 2066804, f-level: 90, builder: raynman)\n",
            "Fri Sep 13 16:25:57 2024 -> main database available for download (remote version: 62)\n",
            "\u001b[?7h\u001b[?7lTime:    1.2s, ETA:    0.0s [========================>]  162.58MiB/162.58MiB\n",
            "\u001b[?7hFri Sep 13 16:26:03 2024 -> Testing database: '/var/lib/clamav/tmp.cee325bd2f/clamav-279d33785c489174d5e11e91cd54c3a6.tmp-main.cvd' ...\n",
            "Fri Sep 13 16:26:13 2024 -> Database test passed.\n",
            "Fri Sep 13 16:26:13 2024 -> main.cvd updated (version: 62, sigs: 6647427, f-level: 90, builder: sigmgr)\n",
            "Fri Sep 13 16:26:13 2024 -> bytecode database available for download (remote version: 335)\n",
            "\u001b[?7h\u001b[?7lTime:    0.2s, ETA:    0.0s [========================>]  282.94KiB/282.94KiB\n",
            "\u001b[?7hFri Sep 13 16:26:13 2024 -> Testing database: '/var/lib/clamav/tmp.cee325bd2f/clamav-4405f1b2b62d0b09b86f55c313d070c6.tmp-bytecode.cvd' ...\n",
            "Fri Sep 13 16:26:13 2024 -> Database test passed.\n",
            "Fri Sep 13 16:26:13 2024 -> bytecode.cvd updated (version: 335, sigs: 86, f-level: 90, builder: raynman)\n",
            "Fri Sep 13 16:26:13 2024 -> !NotifyClamd: Can't find or parse configuration file /etc/clamav/clamd.conf\n"
          ]
        }
      ]
    },
    {
      "cell_type": "code",
      "source": [
        "# Download the file (replace with your video file URL)\n",
        "!wget 'https://www.fuckyea.com/wp-content/uploads/2024/09/She-rides-ATV-and-dick-at-the-same-time.mp4?id=0' -O /content/video.mp4"
      ],
      "metadata": {
        "colab": {
          "base_uri": "https://localhost:8080/"
        },
        "id": "qZXBS5KtNEb8",
        "outputId": "06a70752-83fd-4b76-e69f-345fe8c87726"
      },
      "execution_count": null,
      "outputs": [
        {
          "output_type": "stream",
          "name": "stdout",
          "text": [
            "--2024-09-13 16:26:36--  https://www.fuckyea.com/wp-content/uploads/2024/09/She-rides-ATV-and-dick-at-the-same-time.mp4?id=0\n",
            "Resolving www.fuckyea.com (www.fuckyea.com)... 51.222.12.104\n",
            "Connecting to www.fuckyea.com (www.fuckyea.com)|51.222.12.104|:443... connected.\n",
            "HTTP request sent, awaiting response... 200 OK\n",
            "Length: 3847715 (3.7M) [video/mp4]\n",
            "Saving to: ‘/content/video.mp4’\n",
            "\n",
            "/content/video.mp4  100%[===================>]   3.67M  5.08MB/s    in 0.7s    \n",
            "\n",
            "2024-09-13 16:26:37 (5.08 MB/s) - ‘/content/video.mp4’ saved [3847715/3847715]\n",
            "\n"
          ]
        }
      ]
    },
    {
      "cell_type": "code",
      "source": [
        "# Scan the downloaded file for malware/viruses\n",
        "!clamscan /content/video.mp4"
      ],
      "metadata": {
        "colab": {
          "base_uri": "https://localhost:8080/"
        },
        "id": "Hu_P07CnNQK8",
        "outputId": "5a817c7d-f05e-4cf9-eb2e-74bf075ddce6"
      },
      "execution_count": null,
      "outputs": [
        {
          "output_type": "stream",
          "name": "stdout",
          "text": [
            "/content/video.mp4: OK\n",
            "\n",
            "----------- SCAN SUMMARY -----------\n",
            "Known viruses: 8698326\n",
            "Engine version: 0.103.11\n",
            "Scanned directories: 0\n",
            "Scanned files: 1\n",
            "Infected files: 0\n",
            "Data scanned: 7.80 MB\n",
            "Data read: 3.67 MB (ratio 2.13:1)\n",
            "Time: 29.225 sec (0 m 29 s)\n",
            "Start Date: 2024:09:13 16:26:42\n",
            "End Date:   2024:09:13 16:27:11\n"
          ]
        }
      ]
    },
    {
      "cell_type": "code",
      "source": [
        "import os\n",
        "import shutil\n",
        "from google.colab import drive\n",
        "\n",
        "# Mount Google Drive\n",
        "drive.mount('/content/drive')\n",
        "\n",
        "# Define file paths\n",
        "downloaded_file = '/content/video.mp4'\n",
        "destination_drive = '/content/drive/My Drive/video.mp4'\n",
        "\n",
        "# Scan the file for viruses\n",
        "scan_result = os.system(f'clamscan {downloaded_file}')\n",
        "\n",
        "# If scan_result == 0, it means no virus was found\n",
        "if scan_result == 0:\n",
        "    # Move the file to Google Drive if it's clean\n",
        "    shutil.move(downloaded_file, destination_drive)\n",
        "    print(\"File is clean and has been moved to Google Drive.\")\n",
        "else:\n",
        "    # Delete the file if it's infected\n",
        "    os.remove(downloaded_file)\n",
        "    print(\"File is infected and has been deleted.\")"
      ],
      "metadata": {
        "colab": {
          "base_uri": "https://localhost:8080/"
        },
        "id": "8q8zqYOgNRBo",
        "outputId": "d30f2340-5349-4222-f719-8b86b5caebfd"
      },
      "execution_count": null,
      "outputs": [
        {
          "output_type": "stream",
          "name": "stdout",
          "text": [
            "Mounted at /content/drive\n",
            "File is clean and has been moved to Google Drive.\n"
          ]
        }
      ]
    }
  ]
}